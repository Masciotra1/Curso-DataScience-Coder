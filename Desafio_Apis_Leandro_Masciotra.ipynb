{
 "cells": [
  {
   "cell_type": "markdown",
   "id": "6082df84",
   "metadata": {},
   "source": [
    "Me eh encontrado que muchos de los APIs  que eh probado no han funcionado.. y me queda la duda si realmente seguian en vigencia desde la pagina que los ofrecia.\n",
    "elegi el mismo que fue usado en clases... me ubiese gustado poder aplicar alguno que sea relacionado a los servicios de salud pero los que eh  probado no han funcionado...\n"
   ]
  },
  {
   "cell_type": "code",
   "execution_count": 15,
   "id": "d4b50b88",
   "metadata": {},
   "outputs": [
    {
     "name": "stdout",
     "output_type": "stream",
     "text": [
      "{'comuna': 'Comuna 10', 'barrio': 'Floresta', 'comisaria': '50', 'area_hospitalaria': 'HTAL. DR. T. ÁLVAREZ', 'region_sanitaria': 'III (Oeste)', 'distrito_escolar': 'Distrito Escolar   XII', 'comisaria_vecinal': '10A', 'seccion_catastral': '77', 'distrito_economico': '', 'codigo_de_planeamiento_urbano': 'C3 II', 'partido_amba': '', 'localidad_amba': '', 'codigo_postal': '1426', 'codigo_postal_argentino': 'C1426ABO'}\n"
     ]
    }
   ],
   "source": [
    "import requests\n",
    "import json\n",
    "import pandas as pd\n",
    "\n",
    "url = \"https://datosabiertos-usig-apis.buenosaires.gob.ar/datos_utiles?x=98725&y=100080&calle=CABILDO%20AV.&altura=1500\"\n",
    "response = requests.get(url)\n",
    "\n",
    "if response.status_code == 200:\n",
    "    print(response.json())\n",
    "else:\n",
    "    print(f\"Error: {response.status_code}\")\n"
   ]
  },
  {
   "cell_type": "code",
   "execution_count": 16,
   "id": "70292b6b",
   "metadata": {},
   "outputs": [
    {
     "data": {
      "text/plain": [
       "'{\"comuna\":\"Comuna 10\",\"barrio\":\"Floresta\",\"comisaria\":\"50\",\"area_hospitalaria\":\"HTAL. DR. T. \\\\u00c1LVAREZ\",\"region_sanitaria\":\"III (Oeste)\",\"distrito_escolar\":\"Distrito Escolar   XII\",\"comisaria_vecinal\":\"10A\",\"seccion_catastral\":\"77\",\"distrito_economico\":\"\",\"codigo_de_planeamiento_urbano\":\"C3 II\",\"partido_amba\":\"\",\"localidad_amba\":\"\",\"codigo_postal\":\"1426\",\"codigo_postal_argentino\":\"C1426ABO\"}'"
      ]
     },
     "execution_count": 16,
     "metadata": {},
     "output_type": "execute_result"
    }
   ],
   "source": [
    "response.text"
   ]
  },
  {
   "cell_type": "code",
   "execution_count": 17,
   "id": "7afbd338",
   "metadata": {},
   "outputs": [
    {
     "data": {
      "text/html": [
       "<div>\n",
       "<style scoped>\n",
       "    .dataframe tbody tr th:only-of-type {\n",
       "        vertical-align: middle;\n",
       "    }\n",
       "\n",
       "    .dataframe tbody tr th {\n",
       "        vertical-align: top;\n",
       "    }\n",
       "\n",
       "    .dataframe thead th {\n",
       "        text-align: right;\n",
       "    }\n",
       "</style>\n",
       "<table border=\"1\" class=\"dataframe\">\n",
       "  <thead>\n",
       "    <tr style=\"text-align: right;\">\n",
       "      <th></th>\n",
       "      <th>comuna</th>\n",
       "      <th>barrio</th>\n",
       "      <th>comisaria</th>\n",
       "      <th>area_hospitalaria</th>\n",
       "      <th>region_sanitaria</th>\n",
       "      <th>distrito_escolar</th>\n",
       "      <th>comisaria_vecinal</th>\n",
       "      <th>seccion_catastral</th>\n",
       "      <th>distrito_economico</th>\n",
       "      <th>codigo_de_planeamiento_urbano</th>\n",
       "      <th>partido_amba</th>\n",
       "      <th>localidad_amba</th>\n",
       "      <th>codigo_postal</th>\n",
       "      <th>codigo_postal_argentino</th>\n",
       "    </tr>\n",
       "  </thead>\n",
       "  <tbody>\n",
       "    <tr>\n",
       "      <th>0</th>\n",
       "      <td>Comuna 10</td>\n",
       "      <td>Floresta</td>\n",
       "      <td>50</td>\n",
       "      <td>HTAL. DR. T. ÁLVAREZ</td>\n",
       "      <td>III (Oeste)</td>\n",
       "      <td>Distrito Escolar   XII</td>\n",
       "      <td>10A</td>\n",
       "      <td>77</td>\n",
       "      <td></td>\n",
       "      <td>C3 II</td>\n",
       "      <td></td>\n",
       "      <td></td>\n",
       "      <td>1426</td>\n",
       "      <td>C1426ABO</td>\n",
       "    </tr>\n",
       "  </tbody>\n",
       "</table>\n",
       "</div>"
      ],
      "text/plain": [
       "      comuna    barrio comisaria     area_hospitalaria region_sanitaria  \\\n",
       "0  Comuna 10  Floresta        50  HTAL. DR. T. ÁLVAREZ      III (Oeste)   \n",
       "\n",
       "         distrito_escolar comisaria_vecinal seccion_catastral  \\\n",
       "0  Distrito Escolar   XII               10A                77   \n",
       "\n",
       "  distrito_economico codigo_de_planeamiento_urbano partido_amba  \\\n",
       "0                                            C3 II                \n",
       "\n",
       "  localidad_amba codigo_postal codigo_postal_argentino  \n",
       "0                         1426                C1426ABO  "
      ]
     },
     "execution_count": 17,
     "metadata": {},
     "output_type": "execute_result"
    }
   ],
   "source": [
    "texto = response.text\n",
    "jsondata = json.loads(texto)\n",
    "df3 = pd.DataFrame([jsondata])\n",
    "df3.head()"
   ]
  },
  {
   "cell_type": "code",
   "execution_count": null,
   "id": "30019743",
   "metadata": {},
   "outputs": [],
   "source": []
  }
 ],
 "metadata": {
  "kernelspec": {
   "display_name": "Python 3 (ipykernel)",
   "language": "python",
   "name": "python3"
  },
  "language_info": {
   "codemirror_mode": {
    "name": "ipython",
    "version": 3
   },
   "file_extension": ".py",
   "mimetype": "text/x-python",
   "name": "python",
   "nbconvert_exporter": "python",
   "pygments_lexer": "ipython3",
   "version": "3.11.4"
  }
 },
 "nbformat": 4,
 "nbformat_minor": 5
}
